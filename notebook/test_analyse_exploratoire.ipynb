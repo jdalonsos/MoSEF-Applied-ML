{
 "cells": [
  {
   "cell_type": "markdown",
   "id": "f857d58b",
   "metadata": {},
   "source": [
    "## Test du module `analyse_exploratoire`\n",
    "\n",
    "Ce notebook importe le module que nous avons créé à partir du notebook d'analyse exploratoire et démontre l'utilisation des fonctions sur un jeu de données factice."
   ]
  },
  {
   "cell_type": "code",
   "execution_count": 4,
   "id": "135a4579",
   "metadata": {},
   "outputs": [
    {
     "name": "stdout",
     "output_type": "stream",
     "text": [
      "DataFrame initial:\n",
      "    age   exp    salaire  note cheveux sexe  diplome specialite\n",
      "0  25.0   3.0    30000.0   1.5   blond    M      Bac       Data\n",
      "1  30.0   5.0    50000.0   2.0    brun    F   Master        Bio\n",
      "2   NaN  10.0    60000.0   NaN    noir    F  Licence       Math\n",
      "3  45.0   NaN        NaN   3.5    brun    M      Bac   Physique\n",
      "4  50.0  25.0    80000.0   4.0   blond    F      PhD     Chimie\n",
      "5  22.0   1.0  1000000.0   5.0   blond    M      Bac       Data\n"
     ]
    }
   ],
   "source": [
    "\n",
    "import os, sys\n",
    "import pandas as pd\n",
    "import numpy as np\n",
    "\n",
    "# Ajouter le chemin vers le dossier src pour pouvoir importer notre module\n",
    "sys.path.append(os.path.abspath(os.path.join(os.getcwd(), '..')))\n",
    "import src.analyse_exploratoire as ae\n",
    "\n",
    "\n",
    "\n",
    "df = pd.read_csv(r'../data/data.csv',sep=',') # Adapatation du séparateur\n",
    "\n",
    "df = pd.DataFrame(data)\n",
    "\n",
    "# Affichage du DataFrame initial\n",
    "print('DataFrame initial:')\n",
    "print(df)\n"
   ]
  },
  {
   "cell_type": "code",
   "execution_count": 5,
   "id": "4543e8fb",
   "metadata": {},
   "outputs": [
    {
     "name": "stdout",
     "output_type": "stream",
     "text": [
      "\n",
      "--- Taux de valeurs manquantes ---\n",
      "\n",
      " Les taux de valeurs manquantes (en %) : \n",
      " age        16.666667\n",
      "exp        16.666667\n",
      "salaire    16.666667\n",
      "note       16.666667\n",
      "dtype: float64\n"
     ]
    }
   ],
   "source": [
    "\n",
    "# Affichage du taux de valeurs manquantes (en pourcentage) pour les colonnes avec des NaN\n",
    "print()\n",
    "print('--- Taux de valeurs manquantes ---')\n",
    "ae.display_missing_values(df)\n"
   ]
  },
  {
   "cell_type": "code",
   "execution_count": 6,
   "id": "cd986e94",
   "metadata": {},
   "outputs": [
    {
     "name": "stdout",
     "output_type": "stream",
     "text": [
      "\n",
      "--- Imputation par régression ---\n",
      "   age_imputation_regression  exp_imputation_regression  \\\n",
      "0                         25                          3   \n",
      "1                         30                          5   \n",
      "2                         51                         10   \n",
      "3                         45                          5   \n",
      "4                         50                         25   \n",
      "5                         22                          1   \n",
      "\n",
      "   salaire_imputation_regression  note_imputation_regression  \n",
      "0                   30000.000000                    1.500000  \n",
      "1                   50000.000000                    2.000000  \n",
      "2                   60000.000000                    3.369819  \n",
      "3                  232723.318721                    3.500000  \n",
      "4                   80000.000000                    4.000000  \n",
      "5                 1000000.000000                    5.000000  \n"
     ]
    },
    {
     "name": "stderr",
     "output_type": "stream",
     "text": [
      "d:\\M2_MoSEF\\mlapp\\ML-MoSEF\\.venv\\Lib\\site-packages\\sklearn\\impute\\_iterative.py:895: ConvergenceWarning: [IterativeImputer] Early stopping criterion not reached.\n",
      "  warnings.warn(\n"
     ]
    }
   ],
   "source": [
    "\n",
    "# Imputation des valeurs manquantes dans les variables numériques par régression\n",
    "print()\n",
    "print('--- Imputation par régression ---')\n",
    "ae.impute_by_regression(df)\n",
    "print(df[[f\"{col}_imputation_regression\" for col in col_numericals]])\n"
   ]
  },
  {
   "cell_type": "code",
   "execution_count": 7,
   "id": "e05b3c59",
   "metadata": {},
   "outputs": [
    {
     "name": "stdout",
     "output_type": "stream",
     "text": [
      "\n",
      "--- Détection des outliers (méthode IQR) ---\n",
      "pour la variable age_imputation_regression , limite inf = -7.5\n",
      "pour la variable age_imputation_regression , limite sup = 82.5\n",
      "pour la variable exp_imputation_regression , limite inf = -4.375\n",
      "pour la variable exp_imputation_regression , limite sup = 16.625\n",
      "pour la variable salaire_imputation_regression , limite inf = -160563.73356091074\n",
      "pour la variable salaire_imputation_regression , limite sup = 407606.2226015179\n",
      "pour la variable note_imputation_regression , limite inf = 0.0436368609491784\n",
      "pour la variable note_imputation_regression , limite sup = 6.173817883430493\n",
      "   age_is_outliers  exp_is_outliers  salaire_is_outliers  note_is_outliers\n",
      "0                0                0                    0                 0\n",
      "1                0                0                    0                 0\n",
      "2                0                0                    0                 0\n",
      "3                0                0                    0                 0\n",
      "4                0                1                    0                 0\n",
      "5                0                0                    1                 0\n"
     ]
    }
   ],
   "source": [
    "\n",
    "# Détection des valeurs extrêmes pour chaque colonne imputée\n",
    "print()\n",
    "print('--- Détection des outliers (méthode IQR) ---')\n",
    "for col in col_numericals:\n",
    "    col_imp = f\"{col}_imputation_regression\"\n",
    "    df[f\"{col}_is_outliers\"] = ae.is_outlier(df, col_imp)\n",
    "\n",
    "print(df[[f\"{col}_is_outliers\" for col in col_numericals]])\n"
   ]
  },
  {
   "cell_type": "code",
   "execution_count": 8,
   "id": "7a8b3995",
   "metadata": {},
   "outputs": [
    {
     "name": "stdout",
     "output_type": "stream",
     "text": [
      "\n",
      "--- Tableau des valeurs manquantes ---\n",
      "                               missing_nb  missing_prct\n",
      "age                                     1     16.666667\n",
      "exp                                     1     16.666667\n",
      "salaire                                 1     16.666667\n",
      "note                                    1     16.666667\n",
      "cheveux                                 0      0.000000\n",
      "sexe                                    0      0.000000\n",
      "diplome                                 0      0.000000\n",
      "specialite                              0      0.000000\n",
      "age_imputation_regression               0      0.000000\n",
      "exp_imputation_regression               0      0.000000\n",
      "salaire_imputation_regression           0      0.000000\n",
      "note_imputation_regression              0      0.000000\n",
      "age_is_outliers                         0      0.000000\n",
      "exp_is_outliers                         0      0.000000\n",
      "salaire_is_outliers                     0      0.000000\n",
      "note_is_outliers                        0      0.000000\n"
     ]
    }
   ],
   "source": [
    "\n",
    "# Tableau du nombre et du pourcentage de valeurs manquantes par colonne\n",
    "print()\n",
    "print('--- Tableau des valeurs manquantes ---')\n",
    "missing_df = ae.display_missing_values_bis(df)\n",
    "print(missing_df)\n"
   ]
  }
 ],
 "metadata": {
  "kernelspec": {
   "display_name": ".venv",
   "language": "python",
   "name": "python3"
  },
  "language_info": {
   "codemirror_mode": {
    "name": "ipython",
    "version": 3
   },
   "file_extension": ".py",
   "mimetype": "text/x-python",
   "name": "python",
   "nbconvert_exporter": "python",
   "pygments_lexer": "ipython3",
   "version": "3.12.7"
  }
 },
 "nbformat": 4,
 "nbformat_minor": 5
}
