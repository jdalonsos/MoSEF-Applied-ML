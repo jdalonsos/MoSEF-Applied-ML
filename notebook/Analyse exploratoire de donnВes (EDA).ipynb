{
 "cells": [
  {
   "cell_type": "code",
   "execution_count": null,
   "id": "368e1f9f",
   "metadata": {},
   "outputs": [],
   "source": [
    "Title: My Title\n",
    "Authors : \n",
    "  \"Author1\": \n",
    "  \"Author2\":"
   ]
  },
  {
   "cell_type": "code",
   "execution_count": null,
   "id": "1a29d60c",
   "metadata": {},
   "outputs": [],
   "source": [
    "import numpy as np\n",
    "import pandas as pd\n",
    "\n",
    "\n",
    "import seaborn as sns\n",
    "import plotly.express as px\n",
    "import matplotlib.pyplot as plt\n",
    "\n",
    "\n",
    "import random \n",
    "from tqdm.auto import tqdm\n",
    "\n",
    "import warnings\n",
    "%matplotlib inline\n",
    "warnings.filterwarnings('ignore')"
   ]
  },
  {
   "cell_type": "markdown",
   "id": "4554db4a",
   "metadata": {},
   "source": [
    "<hr>\n",
    "<h2>Description</h2>\n",
    "<p>Le jeu de données contenu dans train.csv décrit des candidatures au poste de\n",
    "chercheur d’or chez OrFée.<br>\n",
    "\n",
    "<p>Le jeu de données comporte 12 colonnes :<br>\n",
    "• <b>id</b>  : identifiant unique de chaque ligne<br>\n",
    "• <b>date</b>  : date de la candidature<br>\n",
    "•  <b>age</b>: âge du candidat<br>\n",
    "•  <b>diplome</b>: plus haut diplôme obtenu (bac, licence, master, doctorat)<br>\n",
    "• <b>specialite</b> : spécialité du diplôme (géologie, forage, détective, archéologie, . . . )<br>\n",
    "• <b>salaire</b>: salaire demandé<br>\n",
    "• <b>dispo</b>: oui : disponibilité immédiate, non : pas disponible immédiatement<br>\n",
    "• <b>sexe</b>: féminin (F) ou masculin (M)<br>\n",
    "• <b>exp</b> : nombre d’années d’expérience<br>\n",
    "• <b>cheveux</b> : couleur des cheveux (châtain, brun, blond, roux)<br>\n",
    "• <b>note</b> : note (sur 100) obtenue à l’exercice de recherche d’or<br>\n",
    "• <b>embauche</b> : le candidat a-t-il été embauché ? (0 : non, 1 : oui) <br>"
   ]
  },
  {
   "cell_type": "code",
   "execution_count": null,
   "id": "53dcb5ad",
   "metadata": {},
   "outputs": [],
   "source": [
    "df = pd.read_csv(r'../data/data.csv',sep=';')\n",
    "df.shape"
   ]
  },
  {
   "cell_type": "code",
   "execution_count": null,
   "id": "40e6d292",
   "metadata": {},
   "outputs": [],
   "source": [
    "df.sample(5)"
   ]
  },
  {
   "cell_type": "code",
   "execution_count": null,
   "id": "897f2211",
   "metadata": {},
   "outputs": [],
   "source": [
    "df.columns"
   ]
  },
  {
   "cell_type": "markdown",
   "id": "a859856d",
   "metadata": {},
   "source": [
    "# <span style=\"color:#011C5D\">Analyse descriptive </span>"
   ]
  },
  {
   "cell_type": "code",
   "execution_count": null,
   "id": "b348a588",
   "metadata": {},
   "outputs": [],
   "source": [
    "df.info()"
   ]
  },
  {
   "cell_type": "code",
   "execution_count": null,
   "id": "c310e3d9",
   "metadata": {},
   "outputs": [],
   "source": []
  },
  {
   "cell_type": "markdown",
   "id": "f04682c1",
   "metadata": {},
   "source": [
    "### <span style=\"color:#011C5D\">1. Identifier les variables numeriques et categorielles </span>"
   ]
  },
  {
   "cell_type": "code",
   "execution_count": null,
   "id": "603d40a0",
   "metadata": {},
   "outputs": [],
   "source": [
    "# EXERCICE : \n",
    "\n",
    "# Identifions tout d'abord les colonnes catégorielles\n",
    "col_categoricals = None\n",
    "\n",
    "# Puis les numériques\n",
    "col_numericals = None\n",
    "\n",
    "\n",
    "print(f\"Liste des colonnes catégorielles :\\n{col_categoricals}\")\n",
    "print(f\"\\nListe des colonnes numériques :\\n{col_numericals}\")"
   ]
  },
  {
   "cell_type": "code",
   "execution_count": null,
   "id": "264b5b71",
   "metadata": {},
   "outputs": [],
   "source": [
    "# Convertir les données numerique au bon format \"SI BESOIN\"\n",
    "#### CODEZ-ICI ####"
   ]
  },
  {
   "cell_type": "markdown",
   "id": "ee084ce2",
   "metadata": {},
   "source": [
    "### <span style=\"color:#011C5D\">2. Analyse de la distribution des variables numeriques </span>"
   ]
  },
  {
   "cell_type": "code",
   "execution_count": null,
   "id": "24291760",
   "metadata": {},
   "outputs": [],
   "source": [
    "ncols = 2\n",
    "nrows = len(col_numericals) // ncols + (len(col_numericals) % ncols > 0)\n",
    " \n",
    "plt.figure(figsize=(17, 14))\n",
    "plt.subplots_adjust(hspace=1)\n",
    "plt.suptitle(\"Distribution des \\nvariables continues\", fontsize=18, y=0.95)\n",
    " \n",
    "for n, variable in enumerate(col_numericals):\n",
    "    # add a new subplot iteratively\n",
    "    ax = plt.subplot(nrows, ncols, n + 1)\n",
    " \n",
    "    sns.kdeplot(ax=ax, data=df[variable], legend=None, shade=True)\n",
    "    ax.grid(b=True, which='major', axis='y')\n",
    "    ax.spines['top'].set_visible(False)\n",
    "    ax.spines['right'].set_visible(False)\n",
    "    ax.spines['bottom'].set_visible(False)\n",
    "    ax.spines['left'].set_visible(False)\n",
    "    \n",
    "    ax.set_title(variable, loc= 'center', fontsize=12)"
   ]
  },
  {
   "cell_type": "markdown",
   "id": "96d7e01f",
   "metadata": {},
   "source": [
    "### <span style=\"color:#011C5D\">3. Matrice de correlation </span>"
   ]
  },
  {
   "cell_type": "code",
   "execution_count": null,
   "id": "f08b5aa8",
   "metadata": {},
   "outputs": [],
   "source": [
    "# EXERCICE : \n",
    "\n",
    "# Calculer la correlation entre les variables numeriques\n",
    "\n",
    "matrice_corr = None\n",
    "\n",
    "# Afficher un heatmap de la matrice de correlation \n",
    "\n",
    "\n",
    "\n",
    "# Que pouvez-vous conclure ?"
   ]
  },
  {
   "cell_type": "markdown",
   "id": "ffa67486",
   "metadata": {},
   "source": [
    "### <span style=\"color:#011C5D\">4. Identification des valeurs manquantes </span>"
   ]
  },
  {
   "cell_type": "code",
   "execution_count": null,
   "id": "9c652fa3",
   "metadata": {},
   "outputs": [],
   "source": [
    "# EXERCICE : Laissez libre court à votre créativité et créez une fonction qui affiche le taux\n",
    "#            de valeurs manquantes de chaque variable pour chaque type (catégorielle et numérique)\n",
    "#            par ordre décroissant\n",
    "\n",
    "\n",
    "def display_missing_values(df):\n",
    "    \n",
    "#### CODEZ-ICI ####\n",
    "\n",
    "\n",
    "\n",
    "# Que pouvez-vous conclure ?"
   ]
  },
  {
   "cell_type": "markdown",
   "id": "678578ef",
   "metadata": {},
   "source": [
    "### <span style=\"color:#011C5D\">5. Imputation des valeurs manquantes </span>"
   ]
  },
  {
   "cell_type": "markdown",
   "id": "0ff19189",
   "metadata": {},
   "source": [
    "#### <span style=\"color:#011C5D\">5.1 Variables numeriques </span>"
   ]
  },
  {
   "cell_type": "markdown",
   "id": "067d44f9",
   "metadata": {},
   "source": [
    "##### <span style=\"color:#011C5D\">5.1.1 Imputation par la moyenne </span>"
   ]
  },
  {
   "cell_type": "code",
   "execution_count": null,
   "id": "e9368814",
   "metadata": {},
   "outputs": [],
   "source": [
    "# EXERCICE : Imputation des variables numériques avec la moyenne\n",
    "# Les variables imputées sont enregistrées dans de nouvelles colonnes.\n",
    "\n"
   ]
  },
  {
   "cell_type": "code",
   "execution_count": null,
   "id": "898c80da",
   "metadata": {},
   "outputs": [],
   "source": []
  },
  {
   "cell_type": "markdown",
   "id": "1a9a1a24",
   "metadata": {},
   "source": [
    "##### <span style=\"color:#011C5D\">5.1.2 Imputation par la regression </span>"
   ]
  },
  {
   "cell_type": "code",
   "execution_count": null,
   "id": "9216a3f6",
   "metadata": {},
   "outputs": [],
   "source": [
    "#EXERCICE : Imputation par régression\n",
    "# Laissez libre cours à votre créativité !\n",
    "# Pour chaque variable numérique contenant des valeurs manquantes, utilisez les variables explicatives appropriées afin d’imputer les valeurs manquantes à l’aide d’une méthode de régression."
   ]
  },
  {
   "cell_type": "code",
   "execution_count": null,
   "id": "aa1cd11e",
   "metadata": {},
   "outputs": [],
   "source": []
  },
  {
   "cell_type": "markdown",
   "id": "7a2e74aa",
   "metadata": {},
   "source": [
    "##### <span style=\"color:#011C5D\">5.1.3 Comparer la distribution des variables imputer </span>"
   ]
  },
  {
   "cell_type": "code",
   "execution_count": null,
   "id": "505d1794",
   "metadata": {},
   "outputs": [],
   "source": [
    "# EXERCICE : Laissez libre court à votre créativité \n",
    "# Pour chaque variable numerique\n",
    "# Comparer la distribution entre l'imputation par la moyenne et l'imputation par Regression\n",
    "\n"
   ]
  },
  {
   "cell_type": "code",
   "execution_count": null,
   "id": "d9d275ab",
   "metadata": {},
   "outputs": [],
   "source": [
    "# Que pouvez-vous conclure ?"
   ]
  },
  {
   "cell_type": "markdown",
   "id": "4a736b09",
   "metadata": {},
   "source": [
    "#### <span style=\"color:#011C5D\">5.2 Variables categorielles </span>"
   ]
  },
  {
   "cell_type": "code",
   "execution_count": null,
   "id": "6feb68c7",
   "metadata": {},
   "outputs": [],
   "source": [
    "# EXERCICE : Utiliser une methode adequate pour imputer les variables categorielles\n",
    "# Les variables imputées sont enregistrées dans de nouvelles colonnes.\n",
    "\n"
   ]
  },
  {
   "cell_type": "markdown",
   "id": "cbe543ad",
   "metadata": {},
   "source": [
    "### <span style=\"color:#011C5D\">6. Detection des outliers </span>"
   ]
  },
  {
   "cell_type": "code",
   "execution_count": null,
   "id": "81a18f66",
   "metadata": {},
   "outputs": [],
   "source": [
    "# On affiche les boxplots\n",
    "temp=pd.melt(df[col_numericals].reset_index(), id_vars='index', value_vars=col_numericals).iloc[:,-2:]\n",
    " \n",
    "ncols = 2\n",
    "nrows = len(col_numericals) // ncols + (len(col_numericals) % ncols > 0)\n",
    " \n",
    "plt.figure(figsize=(17, 14))\n",
    "plt.subplots_adjust(hspace=1)\n",
    "plt.suptitle(\"Boxplot des \\nvariables continues\", fontsize=18, y=0.95)\n",
    " \n",
    "for n, variable in enumerate(col_numericals):\n",
    "    # add a new subplot iteratively\n",
    "    ax = plt.subplot(nrows, ncols, n + 1)\n",
    " \n",
    "    sns.boxplot(ax=ax, data=temp[temp['variable']==variable], orient='h')\n",
    "    #sns.kdeplot(ax=ax, data=temp[temp['variable']==variable], legend=None, palette=customPalette, shade=True)\n",
    "    ax.grid(b=True, which='major', axis='y')\n",
    "    ax.spines['top'].set_visible(False)\n",
    "    ax.spines['right'].set_visible(False)\n",
    "    ax.spines['bottom'].set_visible(False)\n",
    "    ax.spines['left'].set_visible(False)\n",
    "    \n",
    "    ax.set_title(variable, loc= 'center', fontsize=12)"
   ]
  },
  {
   "cell_type": "code",
   "execution_count": null,
   "id": "73056a6c",
   "metadata": {},
   "outputs": [],
   "source": []
  },
  {
   "cell_type": "code",
   "execution_count": null,
   "id": "45f4b34d",
   "metadata": {},
   "outputs": [],
   "source": []
  },
  {
   "cell_type": "code",
   "execution_count": null,
   "id": "e7790f4a",
   "metadata": {},
   "outputs": [],
   "source": [
    "# EXERCICE : Completer cette fonction qui retourne 0 ou 1 si la valeur observée est outlier ou pas \n",
    "\n",
    "def is_outlier(df,column) :\n",
    "    \n",
    "    # 1er Quartile \n",
    "    Q1 = \n",
    "    \n",
    "    # 3ème Quartile \n",
    "    Q3 = \n",
    "    \n",
    "    # Inter-Quartile Range (IQR)\n",
    "    IQR = Q3 - Q1\n",
    "    \n",
    "    # limites, basse & haute\n",
    "    limite_inf = \n",
    "    limte_sup = \n",
    "    \n",
    "    # Remplace les données inférieur et supérieur à la limite par 1 et les autres par 0\n",
    "    series = \n",
    "    \n",
    "    return series"
   ]
  },
  {
   "cell_type": "code",
   "execution_count": null,
   "id": "b0fa7387",
   "metadata": {},
   "outputs": [],
   "source": [
    "# EXERCICE : Appliquer votre fonction aux variables numeriques\n",
    "\n",
    "\n"
   ]
  },
  {
   "cell_type": "code",
   "execution_count": null,
   "id": "8f85f054",
   "metadata": {},
   "outputs": [],
   "source": [
    "# Que pouvez-vous conclure ?"
   ]
  },
  {
   "cell_type": "code",
   "execution_count": null,
   "id": "5ef30400",
   "metadata": {},
   "outputs": [],
   "source": [
    "# EXERCICE : Laissez libre court à votre créativité et créez une fonction qui affiche le taux et nombre\n",
    "#            de valeurs manquantes de chaque variable\n",
    "#            par ordre décroissant\n",
    "\n"
   ]
  },
  {
   "cell_type": "code",
   "execution_count": null,
   "id": "93a12dda",
   "metadata": {},
   "outputs": [],
   "source": []
  },
  {
   "cell_type": "markdown",
   "id": "1f2d43d7",
   "metadata": {},
   "source": [
    "### <span style=\"color:#011C5D\">7. Encodage des variables categorielles </span>"
   ]
  },
  {
   "cell_type": "code",
   "execution_count": null,
   "id": "5b4eac79",
   "metadata": {},
   "outputs": [],
   "source": [
    "# EXERCICE : Utiliser une methode adequate pour encoder les variables categorielles\n",
    "\n"
   ]
  },
  {
   "cell_type": "code",
   "execution_count": null,
   "id": "f2a39be2",
   "metadata": {},
   "outputs": [],
   "source": []
  },
  {
   "cell_type": "markdown",
   "id": "f6337342",
   "metadata": {},
   "source": [
    "### <span style=\"color:#011C5D\">8. Encodage des variables categorielles Embedding </span>"
   ]
  },
  {
   "cell_type": "code",
   "execution_count": null,
   "id": "d965183b",
   "metadata": {},
   "outputs": [],
   "source": [
    "import torch\n",
    "import torch.nn as nn\n",
    "from sklearn.preprocessing import LabelEncoder"
   ]
  },
  {
   "cell_type": "code",
   "execution_count": null,
   "id": "a4a356d1",
   "metadata": {},
   "outputs": [],
   "source": [
    "# Exemple variable\n",
    "VARIABLE = \"cheveux\"\n",
    "df[VARIABLE] = df[VARIABLE].fillna(\"Missing\")\n",
    "MODALITE = df[VARIABLE].unique()\n",
    "NB_MODALITE = len(MODALITE)\n",
    "NB_MODALITE,MODALITE"
   ]
  },
  {
   "cell_type": "code",
   "execution_count": null,
   "id": "055bc9f4",
   "metadata": {},
   "outputs": [],
   "source": [
    "DIM_EMBEDDING = 10"
   ]
  },
  {
   "cell_type": "code",
   "execution_count": null,
   "id": "02a751b1",
   "metadata": {},
   "outputs": [],
   "source": [
    "# Exemple d'embedding avec des weights aleatoire non entraine sur une dataset\n",
    "embedding = nn.Embedding(NB_MODALITE, DIM_EMBEDDING)"
   ]
  },
  {
   "cell_type": "code",
   "execution_count": null,
   "id": "75504752",
   "metadata": {},
   "outputs": [],
   "source": [
    "df[VARIABLE+\"_label_encoded\"] = LabelEncoder().fit_transform(df[VARIABLE])"
   ]
  },
  {
   "cell_type": "code",
   "execution_count": null,
   "id": "5291a275",
   "metadata": {},
   "outputs": [],
   "source": [
    "df[[VARIABLE,VARIABLE+\"_label_encoded\"]].head()"
   ]
  },
  {
   "cell_type": "code",
   "execution_count": null,
   "id": "aca303fb",
   "metadata": {},
   "outputs": [],
   "source": [
    "variable_to_torch = torch.tensor(df[VARIABLE+\"_label_encoded\"].values.tolist())  "
   ]
  },
  {
   "cell_type": "code",
   "execution_count": null,
   "id": "b7667891",
   "metadata": {},
   "outputs": [],
   "source": [
    "embeddings = embedding(variable_to_torch)"
   ]
  },
  {
   "cell_type": "code",
   "execution_count": null,
   "id": "27a6d7c6",
   "metadata": {},
   "outputs": [],
   "source": [
    "embeddings"
   ]
  },
  {
   "cell_type": "code",
   "execution_count": null,
   "id": "ec549034",
   "metadata": {},
   "outputs": [],
   "source": [
    "embeddings.shape"
   ]
  },
  {
   "cell_type": "code",
   "execution_count": null,
   "id": "1b3eca11",
   "metadata": {},
   "outputs": [],
   "source": []
  },
  {
   "cell_type": "code",
   "execution_count": null,
   "id": "66f12be2",
   "metadata": {},
   "outputs": [],
   "source": [
    "from sklearn.decomposition import PCA\n",
    "import matplotlib.pyplot as plt"
   ]
  },
  {
   "cell_type": "code",
   "execution_count": null,
   "id": "f3385d55",
   "metadata": {},
   "outputs": [],
   "source": [
    "### Visualisation des embeddings\n",
    "embeddings_weight = embedding.weight.data.numpy()\n",
    "pca = PCA(n_components=2)\n",
    "embeddings_pca = pca.fit_transform(embeddings_weight)\n",
    "\n",
    "\n",
    "plt.scatter(embeddings_pca[:, 0], embeddings_pca[:, 1])\n",
    "plt.show()"
   ]
  },
  {
   "cell_type": "markdown",
   "id": "aa421d6c",
   "metadata": {},
   "source": [
    "### <span style=\"color:#011C5D\">9. Créer votre package python </span>"
   ]
  },
  {
   "cell_type": "markdown",
   "id": "80f850cd",
   "metadata": {},
   "source": [
    "    - Step 1 : Créer un fichier analyse_exploratoire.py\n",
    "    - Step 2 : Copier toutes les fonctions de ce notebook dans votre fichier fichier analyse_exploratoire.py\n",
    "    - Step 3 : Créer un dossier src\n",
    "    - Step 4 : Deplacer votre fichier analyse_exploratoire.py dans le dossier src\n",
    "    - Step 5 : Créer un nouveau notebook\n",
    "    - Step 6 : Dans ce notebook, specifier le chemin vers votre dossier src\n",
    "    - Step 7 : Executer 'from  analyse_exploratoire import is_outlier, display_missing_values etc...\n",
    "    - Step 8 : Analyser vos données avec ces nouvelles fonction"
   ]
  },
  {
   "cell_type": "markdown",
   "id": "ed1d9f8e",
   "metadata": {},
   "source": [
    "## Ressources\n",
    "\n",
    "Imputation:\n",
    "\n",
    "- [Imputation Iterrative](https://scikit-learn.org/stable/auto_examples/impute/plot_iterative_imputer_variants_comparison.html) \n",
    "- [Imputation](https://scikit-learn.org/stable/modules/impute.html) \n",
    "\n",
    "Outliers:\n",
    "\n",
    "- [Doc sklearn](https://scikit-learn.org/stable/modules/outlier_detection.html)\n",
    "- [Doc Medium](https://towardsdatascience.com/5-outlier-detection-methods-that-every-data-enthusiast-must-know-f917bf439210)"
   ]
  }
 ],
 "metadata": {
  "kernelspec": {
   "display_name": "Python 3 (ipykernel)",
   "language": "python",
   "name": "python3"
  },
  "language_info": {
   "codemirror_mode": {
    "name": "ipython",
    "version": 3
   },
   "file_extension": ".py",
   "mimetype": "text/x-python",
   "name": "python",
   "nbconvert_exporter": "python",
   "pygments_lexer": "ipython3",
   "version": "3.10.9"
  }
 },
 "nbformat": 4,
 "nbformat_minor": 5
}
